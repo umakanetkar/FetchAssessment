{
 "cells": [
  {
   "cell_type": "code",
   "execution_count": 15,
   "id": "7feee4ed",
   "metadata": {},
   "outputs": [],
   "source": [
    "import pandas as pd\n",
    "from datetime import datetime, timedelta\n",
    "import datetime as dt"
   ]
  },
  {
   "cell_type": "code",
   "execution_count": 16,
   "id": "43277447",
   "metadata": {},
   "outputs": [],
   "source": [
    "from IPython.display import Image"
   ]
  },
  {
   "cell_type": "code",
   "execution_count": 17,
   "id": "d09847f5",
   "metadata": {},
   "outputs": [],
   "source": [
    "from IPython.core.interactiveshell import InteractiveShell\n",
    "InteractiveShell.ast_node_interactivity = \"all\""
   ]
  },
  {
   "cell_type": "code",
   "execution_count": 18,
   "id": "ca787977",
   "metadata": {},
   "outputs": [],
   "source": [
    "brands=pd.read_csv('brands.csv')\n",
    "users=pd.read_csv('users.csv')\n",
    "cpg=pd.read_csv('cpg.csv')\n",
    "receipts=pd.read_csv('receipts.csv')\n",
    "rewardItems=pd.read_csv('rewardReceiptItems.csv')"
   ]
  },
  {
   "cell_type": "markdown",
   "id": "d9691679",
   "metadata": {},
   "source": [
    "# Task 3: Evaluate Data Quality Issues in the Data Provided\n",
    "Using the programming language of your choice identify at least **one data quality issue**. We are not expecting a full blown review of all the data provided, but instead want to know how you explore and evaluate data of questionable provenance."
   ]
  },
  {
   "cell_type": "markdown",
   "id": "21e99072",
   "metadata": {},
   "source": [
    "## 1. Missing Values and Duplicates"
   ]
  },
  {
   "cell_type": "code",
   "execution_count": 19,
   "id": "695baeb2",
   "metadata": {
    "scrolled": true
   },
   "outputs": [
    {
     "name": "stdout",
     "output_type": "stream",
     "text": [
      "brands\n",
      "(1167, 7)\n",
      "id                0\n",
      "name              0\n",
      "category        155\n",
      "categoryCode    650\n",
      "barcode           0\n",
      "brandCode       269\n",
      "topBrand        612\n",
      "dtype: int64\n",
      "Total null values in brands: 1686\n",
      "\n",
      "users\n",
      "(212, 7)\n",
      "id               0\n",
      "active           0\n",
      "createdDate      0\n",
      "lastLogin       40\n",
      "role             0\n",
      "signUpSource     5\n",
      "state            6\n",
      "dtype: int64\n",
      "Total null values in users: 51\n",
      "\n",
      "cpg\n",
      "(1167, 3)\n",
      "id        0\n",
      "cpgRef    0\n",
      "cpgId     0\n",
      "dtype: int64\n",
      "Total null values in cpg: 0\n",
      "\n",
      "receipts\n",
      "(1119, 12)\n",
      "id                           0\n",
      "userId                       0\n",
      "bonusPointsEarned          575\n",
      "bonusPointsEarnedReason    575\n",
      "createDate                   0\n",
      "dateScanned                  0\n",
      "modifyDate                   0\n",
      "pointsEarned               510\n",
      "purchaseDate               448\n",
      "purchasedItemCount         484\n",
      "rewardsReceiptStatus         0\n",
      "totalSpent                 435\n",
      "dtype: int64\n",
      "Total null values in receipts: 3027\n",
      "\n",
      "rewardItems\n",
      "(6941, 35)\n",
      "id                                       0\n",
      "barcode                               3851\n",
      "brandCode                             4341\n",
      "description                            381\n",
      "finalPrice                             174\n",
      "itemPrice                              174\n",
      "needsFetchReview                      6128\n",
      "partnerItemId                            0\n",
      "preventTargetGapPoints                6583\n",
      "quantityPurchased                      174\n",
      "userFlaggedBarcode                    6604\n",
      "userFlaggedNewItem                    6618\n",
      "userFlaggedPrice                      6642\n",
      "userFlaggedQuantity                   6642\n",
      "competitorRewardsGroup                6666\n",
      "discountedItemPrice                   1172\n",
      "originalReceiptItemText               1181\n",
      "itemNumber                            6788\n",
      "needsFetchReviewReason                6722\n",
      "originalMetaBriteQuantityPurchased    6926\n",
      "pointsNotAwardedReason                6601\n",
      "pointsPayerId                         5674\n",
      "rewardsGroup                          5210\n",
      "rewardsProductPartnerId               4672\n",
      "userFlaggedDescription                6787\n",
      "targetPrice                           6563\n",
      "pointsEarned                          6014\n",
      "competitiveProduct                    6296\n",
      "originalFinalPrice                    6932\n",
      "originalMetaBriteBarcode              6917\n",
      "originalMetaBriteItemPrice            6932\n",
      "originalMetaBriteDescription          6931\n",
      "deleted                               6932\n",
      "priceAfterCoupon                      5985\n",
      "metabriteCampaignId                   6078\n",
      "dtype: int64\n",
      "Total null values in rewardItems: 172291\n",
      "\n"
     ]
    }
   ],
   "source": [
    "tables=[('brands', brands), ('users', users), ('cpg', cpg), ('receipts', receipts), ('rewardItems', rewardItems)]\n",
    "for table_name, table in tables:\n",
    "    print(table_name)\n",
    "    print(table.shape)\n",
    "    print(table.isna().sum())\n",
    "    print(\"Total null values in \" + table_name + \": \" + str(table.isna().sum().sum()))\n",
    "    print()"
   ]
  },
  {
   "cell_type": "markdown",
   "id": "8721ddbb",
   "metadata": {},
   "source": [
    "We have signicant number of null values, especially in rewardItems table with over 150,000 null values. This can lead to incorrect inferences and loss of information. "
   ]
  },
  {
   "cell_type": "code",
   "execution_count": 20,
   "id": "786efc83",
   "metadata": {},
   "outputs": [
    {
     "data": {
      "image/png": "[encoded data removed]",
      "text/plain": [
       "<IPython.core.display.Image object>"
      ]
     },
     "execution_count": 20,
     "metadata": {},
     "output_type": "execute_result"
    }
   ],
   "source": [
    "image_path = 'user_duplicates.png'\n",
    "\n",
    "# Display the image\n",
    "Image(filename=image_path)"
   ]
  },
  {
   "cell_type": "markdown",
   "id": "457d5d6e",
   "metadata": {},
   "source": [
    "## 2. Data Integrity Issues"
   ]
  },
  {
   "cell_type": "code",
   "execution_count": 21,
   "id": "65813561",
   "metadata": {},
   "outputs": [
    {
     "data": {
      "text/html": [
       "<div>\n",
       "<style scoped>\n",
       "    .dataframe tbody tr th:only-of-type {\n",
       "        vertical-align: middle;\n",
       "    }\n",
       "\n",
       "    .dataframe tbody tr th {\n",
       "        vertical-align: top;\n",
       "    }\n",
       "\n",
       "    .dataframe thead th {\n",
       "        text-align: right;\n",
       "    }\n",
       "</style>\n",
       "<table border=\"1\" class=\"dataframe\">\n",
       "  <thead>\n",
       "    <tr style=\"text-align: right;\">\n",
       "      <th></th>\n",
       "      <th>rewardsReceiptStatus</th>\n",
       "      <th>pointsEarned</th>\n",
       "    </tr>\n",
       "  </thead>\n",
       "  <tbody>\n",
       "    <tr>\n",
       "      <th>4</th>\n",
       "      <td>REJECTED</td>\n",
       "      <td>5.0</td>\n",
       "    </tr>\n",
       "    <tr>\n",
       "      <th>10</th>\n",
       "      <td>REJECTED</td>\n",
       "      <td>750.0</td>\n",
       "    </tr>\n",
       "    <tr>\n",
       "      <th>28</th>\n",
       "      <td>REJECTED</td>\n",
       "      <td>NaN</td>\n",
       "    </tr>\n",
       "    <tr>\n",
       "      <th>59</th>\n",
       "      <td>REJECTED</td>\n",
       "      <td>750.0</td>\n",
       "    </tr>\n",
       "    <tr>\n",
       "      <th>168</th>\n",
       "      <td>REJECTED</td>\n",
       "      <td>NaN</td>\n",
       "    </tr>\n",
       "    <tr>\n",
       "      <th>...</th>\n",
       "      <td>...</td>\n",
       "      <td>...</td>\n",
       "    </tr>\n",
       "    <tr>\n",
       "      <th>1108</th>\n",
       "      <td>REJECTED</td>\n",
       "      <td>25.0</td>\n",
       "    </tr>\n",
       "    <tr>\n",
       "      <th>1112</th>\n",
       "      <td>REJECTED</td>\n",
       "      <td>25.0</td>\n",
       "    </tr>\n",
       "    <tr>\n",
       "      <th>1115</th>\n",
       "      <td>REJECTED</td>\n",
       "      <td>25.0</td>\n",
       "    </tr>\n",
       "    <tr>\n",
       "      <th>1117</th>\n",
       "      <td>REJECTED</td>\n",
       "      <td>25.0</td>\n",
       "    </tr>\n",
       "    <tr>\n",
       "      <th>1118</th>\n",
       "      <td>REJECTED</td>\n",
       "      <td>25.0</td>\n",
       "    </tr>\n",
       "  </tbody>\n",
       "</table>\n",
       "<p>71 rows × 2 columns</p>\n",
       "</div>"
      ],
      "text/plain": [
       "     rewardsReceiptStatus  pointsEarned\n",
       "4                REJECTED           5.0\n",
       "10               REJECTED         750.0\n",
       "28               REJECTED           NaN\n",
       "59               REJECTED         750.0\n",
       "168              REJECTED           NaN\n",
       "...                   ...           ...\n",
       "1108             REJECTED          25.0\n",
       "1112             REJECTED          25.0\n",
       "1115             REJECTED          25.0\n",
       "1117             REJECTED          25.0\n",
       "1118             REJECTED          25.0\n",
       "\n",
       "[71 rows x 2 columns]"
      ]
     },
     "execution_count": 21,
     "metadata": {},
     "output_type": "execute_result"
    }
   ],
   "source": [
    "#1\n",
    "receipts[receipts['rewardsReceiptStatus']== 'REJECTED'][['rewardsReceiptStatus','pointsEarned']]"
   ]
  },
  {
   "cell_type": "markdown",
   "id": "d9a985a2",
   "metadata": {},
   "source": [
    "It appears that receipts marked as 'REJECTED' have earned points in some cases. This is inconsistent with the expected behavior, as rejected receipts should not be eligible for points.\n",
    "\n",
    "To address this issue, it is important to investigate the root cause. This could involve reviewing the data entry process, the logic used to assign points, and any system errors that may have occurred."
   ]
  },
  {
   "cell_type": "code",
   "execution_count": 22,
   "id": "e0454aaf",
   "metadata": {},
   "outputs": [
    {
     "data": {
      "text/plain": [
       "(6941, 35)"
      ]
     },
     "execution_count": 22,
     "metadata": {},
     "output_type": "execute_result"
    },
    {
     "data": {
      "text/plain": [
       "800.0    299\n",
       "77.0      79\n",
       "Name: targetPrice, dtype: int64"
      ]
     },
     "execution_count": 22,
     "metadata": {},
     "output_type": "execute_result"
    }
   ],
   "source": [
    "#2\n",
    "rewardItems.shape\n",
    "rewardItems['targetPrice'].value_counts()"
   ]
  },
  {
   "cell_type": "raw",
   "id": "a0e75967",
   "metadata": {},
   "source": [
    "- It is unusual that the targetPrice column in the rewardItems dataframe only takes two distinct values (800.0 and 77.0) out of a total of 6941 rows. This suggests a potential issue with the data, as one would expect more variation in target prices across different items or transactions."
   ]
  },
  {
   "cell_type": "code",
   "execution_count": 29,
   "id": "72852f82",
   "metadata": {},
   "outputs": [],
   "source": [
    "#3"
   ]
  },
  {
   "cell_type": "markdown",
   "id": "7d391ef3",
   "metadata": {},
   "source": [
    "I found 2 different instances in which incorrect/incomplete data entry will hinder further analysis\n",
    "Presence of \"ITEM NOT FOUND\" in rewardItems.description and \"test brand\" in brands.name and brands.brandCode makes it challenging to perform meaningful analysis."
   ]
  },
  {
   "cell_type": "code",
   "execution_count": 23,
   "id": "08a51573",
   "metadata": {},
   "outputs": [
    {
     "data": {
      "text/plain": [
       "ITEM NOT FOUND                                                         173\n",
       "KLARBRUNN 12PK 12 FL OZ                                                120\n",
       "HUGGIES SIMPLY CLEAN PREMOISTENED WIPE FRAGRANCE FREE BAG 216 COUNT     92\n",
       "MILLER LITE 24 PACK 12OZ CAN                                            90\n",
       "KLEENEX POP UP RECTANGLE BOX FACIAL TISSUE 2 PLY 8PK 160 CT             87\n",
       "                                                                      ... \n",
       "315 LUCMILK1 N A                                                         1\n",
       "314 LUC CHESEME ICAN                                                     1\n",
       "312 LUC CHESE MED CHED                                                   1\n",
       "311 LUC EGGS LARGE AA                                                    1\n",
       "Zucchini                                                                 1\n",
       "Name: description, Length: 1889, dtype: int64"
      ]
     },
     "execution_count": 23,
     "metadata": {},
     "output_type": "execute_result"
    }
   ],
   "source": [
    "rewardItems.description.value_counts()"
   ]
  },
  {
   "cell_type": "code",
   "execution_count": 24,
   "id": "7e145f63",
   "metadata": {},
   "outputs": [
    {
     "data": {
      "text/plain": [
       "429"
      ]
     },
     "execution_count": 24,
     "metadata": {},
     "output_type": "execute_result"
    },
    {
     "data": {
      "text/plain": [
       "358"
      ]
     },
     "execution_count": 24,
     "metadata": {},
     "output_type": "execute_result"
    }
   ],
   "source": [
    "(brands['name'].str.lower().str.contains(\"test brand\")).sum()\n",
    "(brands['brandCode'].str.lower().str.contains(\"test brand\")).sum()"
   ]
  },
  {
   "cell_type": "code",
   "execution_count": 25,
   "id": "62f083ae",
   "metadata": {},
   "outputs": [],
   "source": [
    "test_rows = brands[(brands['name'].str.lower().str.contains(\"test brand\")) | (brands['brandCode'].str.lower().str.contains(\"test brand\"))]"
   ]
  },
  {
   "cell_type": "code",
   "execution_count": 26,
   "id": "59de7c4f",
   "metadata": {},
   "outputs": [
    {
     "data": {
      "text/html": [
       "<div>\n",
       "<style scoped>\n",
       "    .dataframe tbody tr th:only-of-type {\n",
       "        vertical-align: middle;\n",
       "    }\n",
       "\n",
       "    .dataframe tbody tr th {\n",
       "        vertical-align: top;\n",
       "    }\n",
       "\n",
       "    .dataframe thead th {\n",
       "        text-align: right;\n",
       "    }\n",
       "</style>\n",
       "<table border=\"1\" class=\"dataframe\">\n",
       "  <thead>\n",
       "    <tr style=\"text-align: right;\">\n",
       "      <th></th>\n",
       "      <th>id</th>\n",
       "      <th>name</th>\n",
       "      <th>category</th>\n",
       "      <th>categoryCode</th>\n",
       "      <th>barcode</th>\n",
       "      <th>brandCode</th>\n",
       "      <th>topBrand</th>\n",
       "    </tr>\n",
       "  </thead>\n",
       "  <tbody>\n",
       "    <tr>\n",
       "      <th>0</th>\n",
       "      <td>601ac115be37ce2ead437551</td>\n",
       "      <td>test brand @1612366101024</td>\n",
       "      <td>Baking</td>\n",
       "      <td>BAKING</td>\n",
       "      <td>511111019862</td>\n",
       "      <td>NaN</td>\n",
       "      <td>False</td>\n",
       "    </tr>\n",
       "    <tr>\n",
       "      <th>5</th>\n",
       "      <td>5f4bf556be37ce0b4491554d</td>\n",
       "      <td>test brand @1598813526777</td>\n",
       "      <td>Baking</td>\n",
       "      <td>BAKING</td>\n",
       "      <td>511111516354</td>\n",
       "      <td>TEST BRANDCODE @1598813526777</td>\n",
       "      <td>NaN</td>\n",
       "    </tr>\n",
       "    <tr>\n",
       "      <th>9</th>\n",
       "      <td>601ac142be37ce2ead43755a</td>\n",
       "      <td>test brand @1612366146051</td>\n",
       "      <td>Baking</td>\n",
       "      <td>BAKING</td>\n",
       "      <td>511111519874</td>\n",
       "      <td>TEST BRANDCODE @1612366146051</td>\n",
       "      <td>False</td>\n",
       "    </tr>\n",
       "    <tr>\n",
       "      <th>13</th>\n",
       "      <td>601ac142be37ce2ead43755e</td>\n",
       "      <td>test brand @1612366146827</td>\n",
       "      <td>Candy &amp; Sweets</td>\n",
       "      <td>CANDY_AND_SWEETS</td>\n",
       "      <td>511111319917</td>\n",
       "      <td>TEST BRANDCODE @1612366146827</td>\n",
       "      <td>False</td>\n",
       "    </tr>\n",
       "    <tr>\n",
       "      <th>14</th>\n",
       "      <td>601ac142be37ce2ead43755d</td>\n",
       "      <td>test brand @1612366146176</td>\n",
       "      <td>Baking</td>\n",
       "      <td>BAKING</td>\n",
       "      <td>511111819905</td>\n",
       "      <td>TEST BRANDCODE @1612366146176</td>\n",
       "      <td>False</td>\n",
       "    </tr>\n",
       "  </tbody>\n",
       "</table>\n",
       "</div>"
      ],
      "text/plain": [
       "                          id                       name        category  \\\n",
       "0   601ac115be37ce2ead437551  test brand @1612366101024          Baking   \n",
       "5   5f4bf556be37ce0b4491554d  test brand @1598813526777          Baking   \n",
       "9   601ac142be37ce2ead43755a  test brand @1612366146051          Baking   \n",
       "13  601ac142be37ce2ead43755e  test brand @1612366146827  Candy & Sweets   \n",
       "14  601ac142be37ce2ead43755d  test brand @1612366146176          Baking   \n",
       "\n",
       "        categoryCode       barcode                      brandCode topBrand  \n",
       "0             BAKING  511111019862                            NaN    False  \n",
       "5             BAKING  511111516354  TEST BRANDCODE @1598813526777      NaN  \n",
       "9             BAKING  511111519874  TEST BRANDCODE @1612366146051    False  \n",
       "13  CANDY_AND_SWEETS  511111319917  TEST BRANDCODE @1612366146827    False  \n",
       "14            BAKING  511111819905  TEST BRANDCODE @1612366146176    False  "
      ]
     },
     "execution_count": 26,
     "metadata": {},
     "output_type": "execute_result"
    }
   ],
   "source": [
    "test_rows.head()"
   ]
  },
  {
   "cell_type": "markdown",
   "id": "e684fbf1",
   "metadata": {},
   "source": [
    "- From receipt.json file, I created 2 tables - receipts which contains information about 'totalSpent' and rewardReceiptItems which has columns for 'finalPrice','itemPrice', 'quantityPurchased'. \n",
    "- Ideally totalSpent for a receipt should be equal sum(quantityPurchased * finalPrice) of all the items purchased in the receipt but thats not the case here - indicating data error"
   ]
  },
  {
   "cell_type": "code",
   "execution_count": 27,
   "id": "b329484b",
   "metadata": {},
   "outputs": [
    {
     "data": {
      "text/html": [
       "<div>\n",
       "<style scoped>\n",
       "    .dataframe tbody tr th:only-of-type {\n",
       "        vertical-align: middle;\n",
       "    }\n",
       "\n",
       "    .dataframe tbody tr th {\n",
       "        vertical-align: top;\n",
       "    }\n",
       "\n",
       "    .dataframe thead th {\n",
       "        text-align: right;\n",
       "    }\n",
       "</style>\n",
       "<table border=\"1\" class=\"dataframe\">\n",
       "  <thead>\n",
       "    <tr style=\"text-align: right;\">\n",
       "      <th></th>\n",
       "      <th>id</th>\n",
       "      <th>totalSpent</th>\n",
       "      <th>finalPrice</th>\n",
       "      <th>itemPrice</th>\n",
       "      <th>quantityPurchased</th>\n",
       "    </tr>\n",
       "  </thead>\n",
       "  <tbody>\n",
       "    <tr>\n",
       "      <th>0</th>\n",
       "      <td>5ff1e1eb0a720f0523000575</td>\n",
       "      <td>26.0</td>\n",
       "      <td>26.0</td>\n",
       "      <td>26.0</td>\n",
       "      <td>5.0</td>\n",
       "    </tr>\n",
       "    <tr>\n",
       "      <th>1</th>\n",
       "      <td>5ff1e1ee0a7214ada100056f</td>\n",
       "      <td>28.0</td>\n",
       "      <td>28.0</td>\n",
       "      <td>28.0</td>\n",
       "      <td>4.0</td>\n",
       "    </tr>\n",
       "    <tr>\n",
       "      <th>2</th>\n",
       "      <td>5ff1e1ed0a7214ada100056e</td>\n",
       "      <td>20.0</td>\n",
       "      <td>20.0</td>\n",
       "      <td>20.0</td>\n",
       "      <td>5.0</td>\n",
       "    </tr>\n",
       "    <tr>\n",
       "      <th>3</th>\n",
       "      <td>5ff1e1bb0a720f052300056b</td>\n",
       "      <td>11.0</td>\n",
       "      <td>1.0</td>\n",
       "      <td>1.0</td>\n",
       "      <td>1.0</td>\n",
       "    </tr>\n",
       "    <tr>\n",
       "      <th>4</th>\n",
       "      <td>5ff1e1bb0a720f052300056b</td>\n",
       "      <td>11.0</td>\n",
       "      <td>10.0</td>\n",
       "      <td>10.0</td>\n",
       "      <td>1.0</td>\n",
       "    </tr>\n",
       "  </tbody>\n",
       "</table>\n",
       "</div>"
      ],
      "text/plain": [
       "                         id  totalSpent  finalPrice  itemPrice  \\\n",
       "0  5ff1e1eb0a720f0523000575        26.0        26.0       26.0   \n",
       "1  5ff1e1ee0a7214ada100056f        28.0        28.0       28.0   \n",
       "2  5ff1e1ed0a7214ada100056e        20.0        20.0       20.0   \n",
       "3  5ff1e1bb0a720f052300056b        11.0         1.0        1.0   \n",
       "4  5ff1e1bb0a720f052300056b        11.0        10.0       10.0   \n",
       "\n",
       "   quantityPurchased  \n",
       "0                5.0  \n",
       "1                4.0  \n",
       "2                5.0  \n",
       "3                1.0  \n",
       "4                1.0  "
      ]
     },
     "execution_count": 27,
     "metadata": {},
     "output_type": "execute_result"
    }
   ],
   "source": [
    "check_spend = pd.merge(rewardItems, receipts, right_on='id', left_on='id', how=\"inner\")\n",
    "#Ideally totalSpent should be equaly to sum(finalPrice * quantityPurchased) - for all receipts with same receipt id \n",
    "check_spend[['id','totalSpent', 'finalPrice','itemPrice', 'quantityPurchased']].head()"
   ]
  },
  {
   "cell_type": "code",
   "execution_count": 28,
   "id": "b2d14a6c",
   "metadata": {},
   "outputs": [
    {
     "data": {
      "text/plain": [
       "array(['FINISHED', 'REJECTED', 'FLAGGED', 'SUBMITTED', 'PENDING'],\n",
       "      dtype=object)"
      ]
     },
     "execution_count": 28,
     "metadata": {},
     "output_type": "execute_result"
    }
   ],
   "source": [
    "receipts['rewardsReceiptStatus'].unique()"
   ]
  },
  {
   "cell_type": "markdown",
   "id": "2155a69d",
   "metadata": {},
   "source": [
    "- Also here, we do not have a value that explicitly suggests that a receipt was processed successfully. It could be that \"FINISHED\" is intended to serve this purpose - but finished has some ambiguity around it - was it finished successfully? Was it with errors?"
   ]
  },
  {
   "cell_type": "code",
   "execution_count": null,
   "id": "3cc782e4",
   "metadata": {},
   "outputs": [],
   "source": []
  }
 ],
 "metadata": {
  "kernelspec": {
   "display_name": "Python 3 (ipykernel)",
   "language": "python",
   "name": "python3"
  },
  "language_info": {
   "codemirror_mode": {
    "name": "ipython",
    "version": 3
   },
   "file_extension": ".py",
   "mimetype": "text/x-python",
   "name": "python",
   "nbconvert_exporter": "python",
   "pygments_lexer": "ipython3",
   "version": "3.10.9"
  }
 },
 "nbformat": 4,
 "nbformat_minor": 5
}
